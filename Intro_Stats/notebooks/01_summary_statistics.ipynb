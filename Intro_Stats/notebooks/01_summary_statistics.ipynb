{
 "cells": [
  {
   "cell_type": "code",
   "execution_count": 3,
   "id": "bf2b644a",
   "metadata": {},
   "outputs": [],
   "source": [
    "# Import Librarias\n",
    "import pandas as pd\n",
    "import numpy as np\n",
    "\n",
    "# Import Libraries to Plot\n",
    "import matplotlib.pyplot as plt\n",
    "import seaborn as sns\n",
    "\n"
   ]
  },
  {
   "cell_type": "code",
   "execution_count": 4,
   "id": "86897190",
   "metadata": {},
   "outputs": [],
   "source": [
    "sales = pd.read_csv(\"/home/miguel/proyectos/ds_associate/DS_Associate_DataCamp/Intro_Stats/data/beauty_sales_summary.csv\")"
   ]
  },
  {
   "cell_type": "code",
   "execution_count": 8,
   "id": "b664992f",
   "metadata": {},
   "outputs": [
    {
     "data": {
      "text/html": [
       "<div>\n",
       "<style scoped>\n",
       "    .dataframe tbody tr th:only-of-type {\n",
       "        vertical-align: middle;\n",
       "    }\n",
       "\n",
       "    .dataframe tbody tr th {\n",
       "        vertical-align: top;\n",
       "    }\n",
       "\n",
       "    .dataframe thead th {\n",
       "        text-align: right;\n",
       "    }\n",
       "</style>\n",
       "<table border=\"1\" class=\"dataframe\">\n",
       "  <thead>\n",
       "    <tr style=\"text-align: right;\">\n",
       "      <th></th>\n",
       "      <th>product_id</th>\n",
       "      <th>product_name</th>\n",
       "      <th>category</th>\n",
       "      <th>units_sold</th>\n",
       "      <th>unit_price</th>\n",
       "      <th>revenue</th>\n",
       "      <th>month</th>\n",
       "      <th>channel</th>\n",
       "      <th>region</th>\n",
       "    </tr>\n",
       "  </thead>\n",
       "  <tbody>\n",
       "    <tr>\n",
       "      <th>0</th>\n",
       "      <td>P1000</td>\n",
       "      <td>Producto_0</td>\n",
       "      <td>Makeup</td>\n",
       "      <td>453</td>\n",
       "      <td>15.70</td>\n",
       "      <td>7112.10</td>\n",
       "      <td>2023-01-01</td>\n",
       "      <td>Retail</td>\n",
       "      <td>Chile</td>\n",
       "    </tr>\n",
       "    <tr>\n",
       "      <th>1</th>\n",
       "      <td>P1000</td>\n",
       "      <td>Producto_0</td>\n",
       "      <td>Makeup</td>\n",
       "      <td>1662</td>\n",
       "      <td>30.04</td>\n",
       "      <td>49926.48</td>\n",
       "      <td>2023-02-01</td>\n",
       "      <td>Online</td>\n",
       "      <td>Chile</td>\n",
       "    </tr>\n",
       "    <tr>\n",
       "      <th>2</th>\n",
       "      <td>P1000</td>\n",
       "      <td>Producto_0</td>\n",
       "      <td>Makeup</td>\n",
       "      <td>429</td>\n",
       "      <td>16.39</td>\n",
       "      <td>7031.31</td>\n",
       "      <td>2023-03-01</td>\n",
       "      <td>Retail</td>\n",
       "      <td>Colombia</td>\n",
       "    </tr>\n",
       "    <tr>\n",
       "      <th>3</th>\n",
       "      <td>P1000</td>\n",
       "      <td>Producto_0</td>\n",
       "      <td>Makeup</td>\n",
       "      <td>286</td>\n",
       "      <td>36.57</td>\n",
       "      <td>10459.02</td>\n",
       "      <td>2023-04-01</td>\n",
       "      <td>Online</td>\n",
       "      <td>Perú</td>\n",
       "    </tr>\n",
       "    <tr>\n",
       "      <th>4</th>\n",
       "      <td>P1000</td>\n",
       "      <td>Producto_0</td>\n",
       "      <td>Makeup</td>\n",
       "      <td>439</td>\n",
       "      <td>26.49</td>\n",
       "      <td>11629.11</td>\n",
       "      <td>2023-05-01</td>\n",
       "      <td>Online</td>\n",
       "      <td>Colombia</td>\n",
       "    </tr>\n",
       "    <tr>\n",
       "      <th>5</th>\n",
       "      <td>P1000</td>\n",
       "      <td>Producto_0</td>\n",
       "      <td>Makeup</td>\n",
       "      <td>470</td>\n",
       "      <td>24.42</td>\n",
       "      <td>11477.40</td>\n",
       "      <td>2023-06-01</td>\n",
       "      <td>Retail</td>\n",
       "      <td>México</td>\n",
       "    </tr>\n",
       "    <tr>\n",
       "      <th>6</th>\n",
       "      <td>P1000</td>\n",
       "      <td>Producto_0</td>\n",
       "      <td>Makeup</td>\n",
       "      <td>777</td>\n",
       "      <td>48.72</td>\n",
       "      <td>37855.44</td>\n",
       "      <td>2023-07-01</td>\n",
       "      <td>Distributor</td>\n",
       "      <td>México</td>\n",
       "    </tr>\n",
       "    <tr>\n",
       "      <th>7</th>\n",
       "      <td>P1000</td>\n",
       "      <td>Producto_0</td>\n",
       "      <td>Makeup</td>\n",
       "      <td>619</td>\n",
       "      <td>38.55</td>\n",
       "      <td>23862.45</td>\n",
       "      <td>2023-08-01</td>\n",
       "      <td>Retail</td>\n",
       "      <td>Chile</td>\n",
       "    </tr>\n",
       "    <tr>\n",
       "      <th>8</th>\n",
       "      <td>P1000</td>\n",
       "      <td>Producto_0</td>\n",
       "      <td>Makeup</td>\n",
       "      <td>488</td>\n",
       "      <td>19.40</td>\n",
       "      <td>9467.20</td>\n",
       "      <td>2023-09-01</td>\n",
       "      <td>Online</td>\n",
       "      <td>Chile</td>\n",
       "    </tr>\n",
       "    <tr>\n",
       "      <th>9</th>\n",
       "      <td>P1000</td>\n",
       "      <td>Producto_0</td>\n",
       "      <td>Makeup</td>\n",
       "      <td>469</td>\n",
       "      <td>19.59</td>\n",
       "      <td>9187.71</td>\n",
       "      <td>2023-10-01</td>\n",
       "      <td>Online</td>\n",
       "      <td>Perú</td>\n",
       "    </tr>\n",
       "  </tbody>\n",
       "</table>\n",
       "</div>"
      ],
      "text/plain": [
       "  product_id product_name category  units_sold  unit_price   revenue  \\\n",
       "0      P1000   Producto_0   Makeup         453       15.70   7112.10   \n",
       "1      P1000   Producto_0   Makeup        1662       30.04  49926.48   \n",
       "2      P1000   Producto_0   Makeup         429       16.39   7031.31   \n",
       "3      P1000   Producto_0   Makeup         286       36.57  10459.02   \n",
       "4      P1000   Producto_0   Makeup         439       26.49  11629.11   \n",
       "5      P1000   Producto_0   Makeup         470       24.42  11477.40   \n",
       "6      P1000   Producto_0   Makeup         777       48.72  37855.44   \n",
       "7      P1000   Producto_0   Makeup         619       38.55  23862.45   \n",
       "8      P1000   Producto_0   Makeup         488       19.40   9467.20   \n",
       "9      P1000   Producto_0   Makeup         469       19.59   9187.71   \n",
       "\n",
       "        month      channel    region  \n",
       "0  2023-01-01       Retail     Chile  \n",
       "1  2023-02-01       Online     Chile  \n",
       "2  2023-03-01       Retail  Colombia  \n",
       "3  2023-04-01       Online      Perú  \n",
       "4  2023-05-01       Online  Colombia  \n",
       "5  2023-06-01       Retail    México  \n",
       "6  2023-07-01  Distributor    México  \n",
       "7  2023-08-01       Retail     Chile  \n",
       "8  2023-09-01       Online     Chile  \n",
       "9  2023-10-01       Online      Perú  "
      ]
     },
     "metadata": {},
     "output_type": "display_data"
    },
    {
     "name": "stdout",
     "output_type": "stream",
     "text": [
      "(480, 9)\n",
      "<class 'pandas.core.frame.DataFrame'>\n",
      "RangeIndex: 480 entries, 0 to 479\n",
      "Data columns (total 9 columns):\n",
      " #   Column        Non-Null Count  Dtype  \n",
      "---  ------        --------------  -----  \n",
      " 0   product_id    480 non-null    object \n",
      " 1   product_name  480 non-null    object \n",
      " 2   category      480 non-null    object \n",
      " 3   units_sold    480 non-null    int64  \n",
      " 4   unit_price    480 non-null    float64\n",
      " 5   revenue       480 non-null    float64\n",
      " 6   month         480 non-null    object \n",
      " 7   channel       480 non-null    object \n",
      " 8   region        480 non-null    object \n",
      "dtypes: float64(2), int64(1), object(6)\n",
      "memory usage: 33.9+ KB\n",
      "None\n"
     ]
    }
   ],
   "source": [
    "# Explore The Data\n",
    "\n",
    "display(sales.head(10))\n",
    "print(sales.shape)\n",
    "print(sales.info())"
   ]
  },
  {
   "cell_type": "code",
   "execution_count": 11,
   "id": "d01f87f3",
   "metadata": {},
   "outputs": [],
   "source": [
    "# The Feature 'category' to catogory type\n",
    "sales['category'] = sales['category'].astype('category')\n"
   ]
  },
  {
   "cell_type": "code",
   "execution_count": null,
   "id": "6ef9bfe1",
   "metadata": {},
   "outputs": [],
   "source": [
    "# Convert 'month' column to datetime format\n",
    "sales['month'] = pd.to_datetime(sales['month'])"
   ]
  },
  {
   "cell_type": "code",
   "execution_count": 12,
   "id": "0aea19b6",
   "metadata": {},
   "outputs": [
    {
     "data": {
      "text/plain": [
       "['Makeup', 'Fragrance', 'Skincare', 'Haircare']\n",
       "Categories (4, object): ['Fragrance', 'Haircare', 'Makeup', 'Skincare']"
      ]
     },
     "execution_count": 12,
     "metadata": {},
     "output_type": "execute_result"
    }
   ],
   "source": [
    "sales['category'].unique()"
   ]
  },
  {
   "cell_type": "code",
   "execution_count": 13,
   "id": "6394ba4a",
   "metadata": {},
   "outputs": [
    {
     "name": "stderr",
     "output_type": "stream",
     "text": [
      "/tmp/ipykernel_1479/1181592339.py:1: FutureWarning: The default of observed=False is deprecated and will be changed to True in a future version of pandas. Pass observed=False to retain current behavior or observed=True to adopt the future default and silence this warning.\n",
      "  sales.groupby('category').agg({'units_sold': 'sum',\n"
     ]
    },
    {
     "data": {
      "text/html": [
       "<div>\n",
       "<style scoped>\n",
       "    .dataframe tbody tr th:only-of-type {\n",
       "        vertical-align: middle;\n",
       "    }\n",
       "\n",
       "    .dataframe tbody tr th {\n",
       "        vertical-align: top;\n",
       "    }\n",
       "\n",
       "    .dataframe thead th {\n",
       "        text-align: right;\n",
       "    }\n",
       "</style>\n",
       "<table border=\"1\" class=\"dataframe\">\n",
       "  <thead>\n",
       "    <tr style=\"text-align: right;\">\n",
       "      <th></th>\n",
       "      <th>units_sold</th>\n",
       "      <th>unit_price</th>\n",
       "      <th>revenue</th>\n",
       "    </tr>\n",
       "    <tr>\n",
       "      <th>category</th>\n",
       "      <th></th>\n",
       "      <th></th>\n",
       "      <th></th>\n",
       "    </tr>\n",
       "  </thead>\n",
       "  <tbody>\n",
       "    <tr>\n",
       "      <th>Fragrance</th>\n",
       "      <td>34710</td>\n",
       "      <td>28.271458</td>\n",
       "      <td>1011344.23</td>\n",
       "    </tr>\n",
       "    <tr>\n",
       "      <th>Haircare</th>\n",
       "      <td>14448</td>\n",
       "      <td>28.243333</td>\n",
       "      <td>411226.07</td>\n",
       "    </tr>\n",
       "    <tr>\n",
       "      <th>Makeup</th>\n",
       "      <td>117316</td>\n",
       "      <td>27.947269</td>\n",
       "      <td>3266143.48</td>\n",
       "    </tr>\n",
       "    <tr>\n",
       "      <th>Skincare</th>\n",
       "      <td>53293</td>\n",
       "      <td>27.696042</td>\n",
       "      <td>1503282.15</td>\n",
       "    </tr>\n",
       "  </tbody>\n",
       "</table>\n",
       "</div>"
      ],
      "text/plain": [
       "           units_sold  unit_price     revenue\n",
       "category                                     \n",
       "Fragrance       34710   28.271458  1011344.23\n",
       "Haircare        14448   28.243333   411226.07\n",
       "Makeup         117316   27.947269  3266143.48\n",
       "Skincare        53293   27.696042  1503282.15"
      ]
     },
     "execution_count": 13,
     "metadata": {},
     "output_type": "execute_result"
    }
   ],
   "source": [
    "sales.groupby('category').agg({'units_sold': 'sum',\n",
    "                               'unit_price': 'mean',\n",
    "                               'revenue': 'sum'\n",
    "                               })"
   ]
  },
  {
   "cell_type": "code",
   "execution_count": 16,
   "id": "22fbda90",
   "metadata": {},
   "outputs": [
    {
     "data": {
      "image/png": "[encoded data removed]",
      "text/plain": [
       "<Figure size 640x480 with 1 Axes>"
      ]
     },
     "metadata": {},
     "output_type": "display_data"
    }
   ],
   "source": [
    "# Countplot expects a categorical variable for x or y, not a numeric one like 'units_sold'\n",
    "sns.countplot(data=sales[['category','revenue']], x='category')\n",
    "plt.show()\n"
   ]
  }
 ],
 "metadata": {
  "kernelspec": {
   "display_name": "base",
   "language": "python",
   "name": "python3"
  },
  "language_info": {
   "codemirror_mode": {
    "name": "ipython",
    "version": 3
   },
   "file_extension": ".py",
   "mimetype": "text/x-python",
   "name": "python",
   "nbconvert_exporter": "python",
   "pygments_lexer": "ipython3",
   "version": "3.10.13"
  }
 },
 "nbformat": 4,
 "nbformat_minor": 5
}
