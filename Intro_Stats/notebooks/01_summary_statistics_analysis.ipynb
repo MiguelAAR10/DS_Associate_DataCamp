{
 "cells": [
  {
   "cell_type": "markdown",
   "id": "0a9562bd",
   "metadata": {},
   "source": [
    "# 📊 Summary Statistics Analysis: Beauty Product Sales\n",
    "En este notebook aplicarás estadística descriptiva para descubrir patrones, errores, y oportunidades ocultas en los datos de ventas de una tienda de cosméticos naturales."
   ]
  },
  {
   "cell_type": "code",
   "execution_count": 1,
   "id": "95769ad7",
   "metadata": {},
   "outputs": [],
   "source": [
    "import pandas as pd\n",
    "import numpy as np\n",
    "import matplotlib.pyplot as plt\n",
    "import seaborn as sns\n",
    "sns.set(style='whitegrid')"
   ]
  },
  {
   "cell_type": "markdown",
   "id": "6efe4e4f",
   "metadata": {},
   "source": [
    "## 1. 📥 Cargar y explorar los datos"
   ]
  },
  {
   "cell_type": "code",
   "execution_count": 2,
   "id": "463eeb59",
   "metadata": {},
   "outputs": [
    {
     "data": {
      "text/html": [
       "<div>\n",
       "<style scoped>\n",
       "    .dataframe tbody tr th:only-of-type {\n",
       "        vertical-align: middle;\n",
       "    }\n",
       "\n",
       "    .dataframe tbody tr th {\n",
       "        vertical-align: top;\n",
       "    }\n",
       "\n",
       "    .dataframe thead th {\n",
       "        text-align: right;\n",
       "    }\n",
       "</style>\n",
       "<table border=\"1\" class=\"dataframe\">\n",
       "  <thead>\n",
       "    <tr style=\"text-align: right;\">\n",
       "      <th></th>\n",
       "      <th>product_id</th>\n",
       "      <th>product_name</th>\n",
       "      <th>category</th>\n",
       "      <th>units_sold</th>\n",
       "      <th>unit_price</th>\n",
       "      <th>revenue</th>\n",
       "      <th>month</th>\n",
       "      <th>channel</th>\n",
       "      <th>region</th>\n",
       "    </tr>\n",
       "  </thead>\n",
       "  <tbody>\n",
       "    <tr>\n",
       "      <th>0</th>\n",
       "      <td>P1000</td>\n",
       "      <td>Producto_0</td>\n",
       "      <td>Makeup</td>\n",
       "      <td>453</td>\n",
       "      <td>15.70</td>\n",
       "      <td>7112.10</td>\n",
       "      <td>2023-01-01</td>\n",
       "      <td>Retail</td>\n",
       "      <td>Chile</td>\n",
       "    </tr>\n",
       "    <tr>\n",
       "      <th>1</th>\n",
       "      <td>P1000</td>\n",
       "      <td>Producto_0</td>\n",
       "      <td>Makeup</td>\n",
       "      <td>1662</td>\n",
       "      <td>30.04</td>\n",
       "      <td>49926.48</td>\n",
       "      <td>2023-02-01</td>\n",
       "      <td>Online</td>\n",
       "      <td>Chile</td>\n",
       "    </tr>\n",
       "    <tr>\n",
       "      <th>2</th>\n",
       "      <td>P1000</td>\n",
       "      <td>Producto_0</td>\n",
       "      <td>Makeup</td>\n",
       "      <td>429</td>\n",
       "      <td>16.39</td>\n",
       "      <td>7031.31</td>\n",
       "      <td>2023-03-01</td>\n",
       "      <td>Retail</td>\n",
       "      <td>Colombia</td>\n",
       "    </tr>\n",
       "    <tr>\n",
       "      <th>3</th>\n",
       "      <td>P1000</td>\n",
       "      <td>Producto_0</td>\n",
       "      <td>Makeup</td>\n",
       "      <td>286</td>\n",
       "      <td>36.57</td>\n",
       "      <td>10459.02</td>\n",
       "      <td>2023-04-01</td>\n",
       "      <td>Online</td>\n",
       "      <td>Perú</td>\n",
       "    </tr>\n",
       "    <tr>\n",
       "      <th>4</th>\n",
       "      <td>P1000</td>\n",
       "      <td>Producto_0</td>\n",
       "      <td>Makeup</td>\n",
       "      <td>439</td>\n",
       "      <td>26.49</td>\n",
       "      <td>11629.11</td>\n",
       "      <td>2023-05-01</td>\n",
       "      <td>Online</td>\n",
       "      <td>Colombia</td>\n",
       "    </tr>\n",
       "  </tbody>\n",
       "</table>\n",
       "</div>"
      ],
      "text/plain": [
       "  product_id product_name category  units_sold  unit_price   revenue  \\\n",
       "0      P1000   Producto_0   Makeup         453       15.70   7112.10   \n",
       "1      P1000   Producto_0   Makeup        1662       30.04  49926.48   \n",
       "2      P1000   Producto_0   Makeup         429       16.39   7031.31   \n",
       "3      P1000   Producto_0   Makeup         286       36.57  10459.02   \n",
       "4      P1000   Producto_0   Makeup         439       26.49  11629.11   \n",
       "\n",
       "       month channel    region  \n",
       "0 2023-01-01  Retail     Chile  \n",
       "1 2023-02-01  Online     Chile  \n",
       "2 2023-03-01  Retail  Colombia  \n",
       "3 2023-04-01  Online      Perú  \n",
       "4 2023-05-01  Online  Colombia  "
      ]
     },
     "execution_count": 2,
     "metadata": {},
     "output_type": "execute_result"
    }
   ],
   "source": [
    "df = pd.read_csv('../data/beauty_sales_summary.csv')\n",
    "df['month'] = pd.to_datetime(df['month'])\n",
    "df.head()"
   ]
  },
  {
   "cell_type": "markdown",
   "id": "721c10ed",
   "metadata": {},
   "source": [
    "### 📌 Descripción general del dataset"
   ]
  },
  {
   "cell_type": "code",
   "execution_count": 3,
   "id": "24258b9e",
   "metadata": {},
   "outputs": [
    {
     "name": "stdout",
     "output_type": "stream",
     "text": [
      "<class 'pandas.core.frame.DataFrame'>\n",
      "RangeIndex: 480 entries, 0 to 479\n",
      "Data columns (total 9 columns):\n",
      " #   Column        Non-Null Count  Dtype         \n",
      "---  ------        --------------  -----         \n",
      " 0   product_id    480 non-null    object        \n",
      " 1   product_name  480 non-null    object        \n",
      " 2   category      480 non-null    object        \n",
      " 3   units_sold    480 non-null    int64         \n",
      " 4   unit_price    480 non-null    float64       \n",
      " 5   revenue       480 non-null    float64       \n",
      " 6   month         480 non-null    datetime64[ns]\n",
      " 7   channel       480 non-null    object        \n",
      " 8   region        480 non-null    object        \n",
      "dtypes: datetime64[ns](1), float64(2), int64(1), object(5)\n",
      "memory usage: 33.9+ KB\n"
     ]
    }
   ],
   "source": [
    "df.info()"
   ]
  },
  {
   "cell_type": "markdown",
   "id": "557745eb",
   "metadata": {},
   "source": [
    "### 📊 Estadísticas descriptivas básicas"
   ]
  },
  {
   "cell_type": "code",
   "execution_count": 4,
   "id": "ba3524f3",
   "metadata": {},
   "outputs": [
    {
     "data": {
      "text/html": [
       "<div>\n",
       "<style scoped>\n",
       "    .dataframe tbody tr th:only-of-type {\n",
       "        vertical-align: middle;\n",
       "    }\n",
       "\n",
       "    .dataframe tbody tr th {\n",
       "        vertical-align: top;\n",
       "    }\n",
       "\n",
       "    .dataframe thead th {\n",
       "        text-align: right;\n",
       "    }\n",
       "</style>\n",
       "<table border=\"1\" class=\"dataframe\">\n",
       "  <thead>\n",
       "    <tr style=\"text-align: right;\">\n",
       "      <th></th>\n",
       "      <th>product_id</th>\n",
       "      <th>product_name</th>\n",
       "      <th>category</th>\n",
       "      <th>units_sold</th>\n",
       "      <th>unit_price</th>\n",
       "      <th>revenue</th>\n",
       "      <th>month</th>\n",
       "      <th>channel</th>\n",
       "      <th>region</th>\n",
       "    </tr>\n",
       "  </thead>\n",
       "  <tbody>\n",
       "    <tr>\n",
       "      <th>count</th>\n",
       "      <td>480</td>\n",
       "      <td>480</td>\n",
       "      <td>480</td>\n",
       "      <td>480.000000</td>\n",
       "      <td>480.000000</td>\n",
       "      <td>480.000000</td>\n",
       "      <td>480</td>\n",
       "      <td>480</td>\n",
       "      <td>480</td>\n",
       "    </tr>\n",
       "    <tr>\n",
       "      <th>unique</th>\n",
       "      <td>20</td>\n",
       "      <td>20</td>\n",
       "      <td>4</td>\n",
       "      <td>NaN</td>\n",
       "      <td>NaN</td>\n",
       "      <td>NaN</td>\n",
       "      <td>NaN</td>\n",
       "      <td>3</td>\n",
       "      <td>4</td>\n",
       "    </tr>\n",
       "    <tr>\n",
       "      <th>top</th>\n",
       "      <td>P1000</td>\n",
       "      <td>Producto_0</td>\n",
       "      <td>Makeup</td>\n",
       "      <td>NaN</td>\n",
       "      <td>NaN</td>\n",
       "      <td>NaN</td>\n",
       "      <td>NaN</td>\n",
       "      <td>Online</td>\n",
       "      <td>México</td>\n",
       "    </tr>\n",
       "    <tr>\n",
       "      <th>freq</th>\n",
       "      <td>24</td>\n",
       "      <td>24</td>\n",
       "      <td>216</td>\n",
       "      <td>NaN</td>\n",
       "      <td>NaN</td>\n",
       "      <td>NaN</td>\n",
       "      <td>NaN</td>\n",
       "      <td>231</td>\n",
       "      <td>138</td>\n",
       "    </tr>\n",
       "    <tr>\n",
       "      <th>mean</th>\n",
       "      <td>NaN</td>\n",
       "      <td>NaN</td>\n",
       "      <td>NaN</td>\n",
       "      <td>457.847917</td>\n",
       "      <td>28.009083</td>\n",
       "      <td>12899.991521</td>\n",
       "      <td>2023-12-16 10:00:00</td>\n",
       "      <td>NaN</td>\n",
       "      <td>NaN</td>\n",
       "    </tr>\n",
       "    <tr>\n",
       "      <th>min</th>\n",
       "      <td>NaN</td>\n",
       "      <td>NaN</td>\n",
       "      <td>NaN</td>\n",
       "      <td>0.000000</td>\n",
       "      <td>1.270000</td>\n",
       "      <td>0.000000</td>\n",
       "      <td>2023-01-01 00:00:00</td>\n",
       "      <td>NaN</td>\n",
       "      <td>NaN</td>\n",
       "    </tr>\n",
       "    <tr>\n",
       "      <th>25%</th>\n",
       "      <td>NaN</td>\n",
       "      <td>NaN</td>\n",
       "      <td>NaN</td>\n",
       "      <td>302.000000</td>\n",
       "      <td>16.997500</td>\n",
       "      <td>5850.600000</td>\n",
       "      <td>2023-06-23 12:00:00</td>\n",
       "      <td>NaN</td>\n",
       "      <td>NaN</td>\n",
       "    </tr>\n",
       "    <tr>\n",
       "      <th>50%</th>\n",
       "      <td>NaN</td>\n",
       "      <td>NaN</td>\n",
       "      <td>NaN</td>\n",
       "      <td>458.500000</td>\n",
       "      <td>28.155000</td>\n",
       "      <td>10360.825000</td>\n",
       "      <td>2023-12-16 12:00:00</td>\n",
       "      <td>NaN</td>\n",
       "      <td>NaN</td>\n",
       "    </tr>\n",
       "    <tr>\n",
       "      <th>75%</th>\n",
       "      <td>NaN</td>\n",
       "      <td>NaN</td>\n",
       "      <td>NaN</td>\n",
       "      <td>554.000000</td>\n",
       "      <td>39.015000</td>\n",
       "      <td>17530.515000</td>\n",
       "      <td>2024-06-08 12:00:00</td>\n",
       "      <td>NaN</td>\n",
       "      <td>NaN</td>\n",
       "    </tr>\n",
       "    <tr>\n",
       "      <th>max</th>\n",
       "      <td>NaN</td>\n",
       "      <td>NaN</td>\n",
       "      <td>NaN</td>\n",
       "      <td>2223.000000</td>\n",
       "      <td>49.930000</td>\n",
       "      <td>90712.440000</td>\n",
       "      <td>2024-12-01 00:00:00</td>\n",
       "      <td>NaN</td>\n",
       "      <td>NaN</td>\n",
       "    </tr>\n",
       "    <tr>\n",
       "      <th>std</th>\n",
       "      <td>NaN</td>\n",
       "      <td>NaN</td>\n",
       "      <td>NaN</td>\n",
       "      <td>273.355481</td>\n",
       "      <td>13.062339</td>\n",
       "      <td>10678.141693</td>\n",
       "      <td>NaN</td>\n",
       "      <td>NaN</td>\n",
       "      <td>NaN</td>\n",
       "    </tr>\n",
       "  </tbody>\n",
       "</table>\n",
       "</div>"
      ],
      "text/plain": [
       "       product_id product_name category   units_sold  unit_price  \\\n",
       "count         480          480      480   480.000000  480.000000   \n",
       "unique         20           20        4          NaN         NaN   \n",
       "top         P1000   Producto_0   Makeup          NaN         NaN   \n",
       "freq           24           24      216          NaN         NaN   \n",
       "mean          NaN          NaN      NaN   457.847917   28.009083   \n",
       "min           NaN          NaN      NaN     0.000000    1.270000   \n",
       "25%           NaN          NaN      NaN   302.000000   16.997500   \n",
       "50%           NaN          NaN      NaN   458.500000   28.155000   \n",
       "75%           NaN          NaN      NaN   554.000000   39.015000   \n",
       "max           NaN          NaN      NaN  2223.000000   49.930000   \n",
       "std           NaN          NaN      NaN   273.355481   13.062339   \n",
       "\n",
       "             revenue                month channel  region  \n",
       "count     480.000000                  480     480     480  \n",
       "unique           NaN                  NaN       3       4  \n",
       "top              NaN                  NaN  Online  México  \n",
       "freq             NaN                  NaN     231     138  \n",
       "mean    12899.991521  2023-12-16 10:00:00     NaN     NaN  \n",
       "min         0.000000  2023-01-01 00:00:00     NaN     NaN  \n",
       "25%      5850.600000  2023-06-23 12:00:00     NaN     NaN  \n",
       "50%     10360.825000  2023-12-16 12:00:00     NaN     NaN  \n",
       "75%     17530.515000  2024-06-08 12:00:00     NaN     NaN  \n",
       "max     90712.440000  2024-12-01 00:00:00     NaN     NaN  \n",
       "std     10678.141693                  NaN     NaN     NaN  "
      ]
     },
     "execution_count": 4,
     "metadata": {},
     "output_type": "execute_result"
    }
   ],
   "source": [
    "df.describe(include='all')"
   ]
  },
  {
   "cell_type": "markdown",
   "id": "03d7ccd1",
   "metadata": {},
   "source": [
    "## 2. 🧠 Clasificación de tipos de datos\n",
    "- **Categóricas:** `product_id`, `product_name`, `category`, `channel`, `region`\n",
    "- **Numéricas:** `units_sold`, `unit_price`, `revenue`\n",
    "- **Temporales:** `month`\n",
    "\n",
    "> Esta clasificación es fundamental para saber qué tipo de estadística usar en cada caso."
   ]
  },
  {
   "cell_type": "markdown",
   "id": "f61fded2",
   "metadata": {},
   "source": [
    "## 3. 🎯 Comparación entre media y mediana por categoría"
   ]
  },
  {
   "cell_type": "code",
   "execution_count": 5,
   "id": "976bd6ec",
   "metadata": {},
   "outputs": [
    {
     "data": {
      "text/html": [
       "<div>\n",
       "<style scoped>\n",
       "    .dataframe tbody tr th:only-of-type {\n",
       "        vertical-align: middle;\n",
       "    }\n",
       "\n",
       "    .dataframe tbody tr th {\n",
       "        vertical-align: top;\n",
       "    }\n",
       "\n",
       "    .dataframe thead th {\n",
       "        text-align: right;\n",
       "    }\n",
       "</style>\n",
       "<table border=\"1\" class=\"dataframe\">\n",
       "  <thead>\n",
       "    <tr style=\"text-align: right;\">\n",
       "      <th></th>\n",
       "      <th>mean</th>\n",
       "      <th>median</th>\n",
       "    </tr>\n",
       "    <tr>\n",
       "      <th>category</th>\n",
       "      <th></th>\n",
       "      <th></th>\n",
       "    </tr>\n",
       "  </thead>\n",
       "  <tbody>\n",
       "    <tr>\n",
       "      <th>Haircare</th>\n",
       "      <td>602.000000</td>\n",
       "      <td>503.0</td>\n",
       "    </tr>\n",
       "    <tr>\n",
       "      <th>Skincare</th>\n",
       "      <td>555.135417</td>\n",
       "      <td>519.0</td>\n",
       "    </tr>\n",
       "    <tr>\n",
       "      <th>Makeup</th>\n",
       "      <td>543.129630</td>\n",
       "      <td>506.0</td>\n",
       "    </tr>\n",
       "    <tr>\n",
       "      <th>Fragrance</th>\n",
       "      <td>241.041667</td>\n",
       "      <td>221.5</td>\n",
       "    </tr>\n",
       "  </tbody>\n",
       "</table>\n",
       "</div>"
      ],
      "text/plain": [
       "                 mean  median\n",
       "category                     \n",
       "Haircare   602.000000   503.0\n",
       "Skincare   555.135417   519.0\n",
       "Makeup     543.129630   506.0\n",
       "Fragrance  241.041667   221.5"
      ]
     },
     "execution_count": 5,
     "metadata": {},
     "output_type": "execute_result"
    }
   ],
   "source": [
    "df.groupby('category')['units_sold'].agg(['mean', 'median']).sort_values(by='mean', ascending=False)"
   ]
  },
  {
   "cell_type": "markdown",
   "id": "fb00d40b",
   "metadata": {},
   "source": [
    "## 4. 📐 Medidas de dispersión por canal"
   ]
  },
  {
   "cell_type": "code",
   "execution_count": 6,
   "id": "492a26f8",
   "metadata": {},
   "outputs": [
    {
     "data": {
      "text/plain": [
       "channel\n",
       "Retail         13420.329602\n",
       "Online          9112.956249\n",
       "Distributor     8594.434289\n",
       "Name: revenue, dtype: float64"
      ]
     },
     "execution_count": 6,
     "metadata": {},
     "output_type": "execute_result"
    }
   ],
   "source": [
    "df.groupby('channel')['revenue'].std().sort_values(ascending=False)"
   ]
  },
  {
   "cell_type": "markdown",
   "id": "1d297c5e",
   "metadata": {},
   "source": [
    "## 5. 🔍 Visualización de distribuciones y asimetría (skewness)"
   ]
  },
  {
   "cell_type": "code",
   "execution_count": 7,
   "id": "d22850d0",
   "metadata": {},
   "outputs": [
    {
     "data": {
      "image/png": "[encoded data removed]",
      "text/plain": [
       "<Figure size 640x480 with 1 Axes>"
      ]
     },
     "metadata": {},
     "output_type": "display_data"
    }
   ],
   "source": [
    "sns.histplot(df['revenue'], bins=50, kde=True)\n",
    "plt.title('Distribución de Revenue');"
   ]
  },
  {
   "cell_type": "code",
   "execution_count": 8,
   "id": "1f4dd5a2",
   "metadata": {},
   "outputs": [
    {
     "name": "stdout",
     "output_type": "stream",
     "text": [
      "Skewness: 2.77268526245318\n"
     ]
    }
   ],
   "source": [
    "print('Skewness:', df['revenue'].skew())"
   ]
  },
  {
   "cell_type": "markdown",
   "id": "3f22882f",
   "metadata": {},
   "source": [
    "## 6. 🗺️ Boxplot de ingresos por región"
   ]
  },
  {
   "cell_type": "code",
   "execution_count": 9,
   "id": "4ec20b7f",
   "metadata": {},
   "outputs": [
    {
     "data": {
      "text/plain": [
       "Text(0.5, 1.0, 'Distribución de Revenue por Región')"
      ]
     },
     "execution_count": 9,
     "metadata": {},
     "output_type": "execute_result"
    },
    {
     "data": {
      "image/png": "[encoded data removed]",
      "text/plain": [
       "<Figure size 1000x500 with 1 Axes>"
      ]
     },
     "metadata": {},
     "output_type": "display_data"
    }
   ],
   "source": [
    "plt.figure(figsize=(10,5))\n",
    "sns.boxplot(data=df, x='region', y='revenue')\n",
    "plt.title('Distribución de Revenue por Región')"
   ]
  },
  {
   "cell_type": "markdown",
   "id": "5bcd139a",
   "metadata": {},
   "source": [
    "## 7. 🚨 Detección de outliers usando IQR"
   ]
  },
  {
   "cell_type": "code",
   "execution_count": 10,
   "id": "e57c42b5",
   "metadata": {},
   "outputs": [
    {
     "name": "stdout",
     "output_type": "stream",
     "text": [
      "Total outliers encontrados: 12\n"
     ]
    },
    {
     "data": {
      "text/html": [
       "<div>\n",
       "<style scoped>\n",
       "    .dataframe tbody tr th:only-of-type {\n",
       "        vertical-align: middle;\n",
       "    }\n",
       "\n",
       "    .dataframe tbody tr th {\n",
       "        vertical-align: top;\n",
       "    }\n",
       "\n",
       "    .dataframe thead th {\n",
       "        text-align: right;\n",
       "    }\n",
       "</style>\n",
       "<table border=\"1\" class=\"dataframe\">\n",
       "  <thead>\n",
       "    <tr style=\"text-align: right;\">\n",
       "      <th></th>\n",
       "      <th>product_id</th>\n",
       "      <th>product_name</th>\n",
       "      <th>category</th>\n",
       "      <th>units_sold</th>\n",
       "      <th>unit_price</th>\n",
       "      <th>revenue</th>\n",
       "      <th>month</th>\n",
       "      <th>channel</th>\n",
       "      <th>region</th>\n",
       "    </tr>\n",
       "  </thead>\n",
       "  <tbody>\n",
       "    <tr>\n",
       "      <th>1</th>\n",
       "      <td>P1000</td>\n",
       "      <td>Producto_0</td>\n",
       "      <td>Makeup</td>\n",
       "      <td>1662</td>\n",
       "      <td>30.04</td>\n",
       "      <td>49926.48</td>\n",
       "      <td>2023-02-01</td>\n",
       "      <td>Online</td>\n",
       "      <td>Chile</td>\n",
       "    </tr>\n",
       "    <tr>\n",
       "      <th>6</th>\n",
       "      <td>P1000</td>\n",
       "      <td>Producto_0</td>\n",
       "      <td>Makeup</td>\n",
       "      <td>777</td>\n",
       "      <td>48.72</td>\n",
       "      <td>37855.44</td>\n",
       "      <td>2023-07-01</td>\n",
       "      <td>Distributor</td>\n",
       "      <td>México</td>\n",
       "    </tr>\n",
       "    <tr>\n",
       "      <th>19</th>\n",
       "      <td>P1000</td>\n",
       "      <td>Producto_0</td>\n",
       "      <td>Makeup</td>\n",
       "      <td>1551</td>\n",
       "      <td>22.81</td>\n",
       "      <td>35378.31</td>\n",
       "      <td>2024-08-01</td>\n",
       "      <td>Online</td>\n",
       "      <td>Colombia</td>\n",
       "    </tr>\n",
       "    <tr>\n",
       "      <th>68</th>\n",
       "      <td>P1002</td>\n",
       "      <td>Producto_2</td>\n",
       "      <td>Skincare</td>\n",
       "      <td>1428</td>\n",
       "      <td>46.03</td>\n",
       "      <td>65730.84</td>\n",
       "      <td>2024-09-01</td>\n",
       "      <td>Online</td>\n",
       "      <td>México</td>\n",
       "    </tr>\n",
       "    <tr>\n",
       "      <th>181</th>\n",
       "      <td>P1007</td>\n",
       "      <td>Producto_7</td>\n",
       "      <td>Skincare</td>\n",
       "      <td>1512</td>\n",
       "      <td>28.15</td>\n",
       "      <td>42562.80</td>\n",
       "      <td>2024-02-01</td>\n",
       "      <td>Online</td>\n",
       "      <td>Perú</td>\n",
       "    </tr>\n",
       "  </tbody>\n",
       "</table>\n",
       "</div>"
      ],
      "text/plain": [
       "    product_id product_name  category  units_sold  unit_price   revenue  \\\n",
       "1        P1000   Producto_0    Makeup        1662       30.04  49926.48   \n",
       "6        P1000   Producto_0    Makeup         777       48.72  37855.44   \n",
       "19       P1000   Producto_0    Makeup        1551       22.81  35378.31   \n",
       "68       P1002   Producto_2  Skincare        1428       46.03  65730.84   \n",
       "181      P1007   Producto_7  Skincare        1512       28.15  42562.80   \n",
       "\n",
       "         month      channel    region  \n",
       "1   2023-02-01       Online     Chile  \n",
       "6   2023-07-01  Distributor    México  \n",
       "19  2024-08-01       Online  Colombia  \n",
       "68  2024-09-01       Online    México  \n",
       "181 2024-02-01       Online      Perú  "
      ]
     },
     "execution_count": 10,
     "metadata": {},
     "output_type": "execute_result"
    }
   ],
   "source": [
    "Q1 = df['revenue'].quantile(0.25)\n",
    "Q3 = df['revenue'].quantile(0.75)\n",
    "IQR = Q3 - Q1\n",
    "lower_bound = Q1 - 1.5 * IQR\n",
    "upper_bound = Q3 + 1.5 * IQR\n",
    "outliers = df[(df['revenue'] < lower_bound) | (df['revenue'] > upper_bound)]\n",
    "print(f'Total outliers encontrados: {len(outliers)}')\n",
    "outliers.head()"
   ]
  },
  {
   "cell_type": "markdown",
   "id": "fc009dcd",
   "metadata": {},
   "source": [
    "## 🧠 Reflexión final\n",
    "- ¿La media o la mediana es más representativa en estos datos?\n",
    "- ¿Qué regiones presentan mayor varianza?\n",
    "- ¿Qué podrías hacer con los outliers detectados?\n",
    "- ¿Qué aprendiste sobre cómo analizar datos reales?"
   ]
  }
 ],
 "metadata": {
  "kernelspec": {
   "display_name": "base",
   "language": "python",
   "name": "python3"
  },
  "language_info": {
   "codemirror_mode": {
    "name": "ipython",
    "version": 3
   },
   "file_extension": ".py",
   "mimetype": "text/x-python",
   "name": "python",
   "nbconvert_exporter": "python",
   "pygments_lexer": "ipython3",
   "version": "3.10.13"
  }
 },
 "nbformat": 4,
 "nbformat_minor": 5
}
