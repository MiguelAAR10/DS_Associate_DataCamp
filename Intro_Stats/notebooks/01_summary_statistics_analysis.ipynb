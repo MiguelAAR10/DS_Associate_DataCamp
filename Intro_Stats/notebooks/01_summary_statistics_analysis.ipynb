{
 "cells": [
  {
   "cell_type": "markdown",
   "id": "0a9562bd",
   "metadata": {},
   "source": [
    "# 📊 Summary Statistics Analysis: Beauty Product Sales\n",
    "En este notebook aplicarás estadística descriptiva para descubrir patrones, errores, y oportunidades ocultas en los datos de ventas de una tienda de cosméticos naturales."
   ]
  },
  {
   "cell_type": "code",
   "execution_count": null,
   "id": "95769ad7",
   "metadata": {},
   "outputs": [],
   "source": [
    "import pandas as pd\n",
    "import numpy as np\n",
    "import matplotlib.pyplot as plt\n",
    "import seaborn as sns\n",
    "sns.set(style='whitegrid')"
   ]
  },
  {
   "cell_type": "markdown",
   "id": "6efe4e4f",
   "metadata": {},
   "source": [
    "## 1. 📥 Cargar y explorar los datos"
   ]
  },
  {
   "cell_type": "code",
   "execution_count": null,
   "id": "463eeb59",
   "metadata": {},
   "outputs": [],
   "source": [
    "df = pd.read_csv('../data/beauty_sales_summary.csv')\n",
    "df['month'] = pd.to_datetime(df['month'])\n",
    "df.head()"
   ]
  },
  {
   "cell_type": "markdown",
   "id": "721c10ed",
   "metadata": {},
   "source": [
    "### 📌 Descripción general del dataset"
   ]
  },
  {
   "cell_type": "code",
   "execution_count": null,
   "id": "24258b9e",
   "metadata": {},
   "outputs": [],
   "source": [
    "df.info()"
   ]
  },
  {
   "cell_type": "markdown",
   "id": "557745eb",
   "metadata": {},
   "source": [
    "### 📊 Estadísticas descriptivas básicas"
   ]
  },
  {
   "cell_type": "code",
   "execution_count": null,
   "id": "ba3524f3",
   "metadata": {},
   "outputs": [],
   "source": [
    "df.describe(include='all')"
   ]
  },
  {
   "cell_type": "markdown",
   "id": "03d7ccd1",
   "metadata": {},
   "source": [
    "## 2. 🧠 Clasificación de tipos de datos\n",
    "- **Categóricas:** `product_id`, `product_name`, `category`, `channel`, `region`\n",
    "- **Numéricas:** `units_sold`, `unit_price`, `revenue`\n",
    "- **Temporales:** `month`\n",
    "\n",
    "> Esta clasificación es fundamental para saber qué tipo de estadística usar en cada caso."
   ]
  },
  {
   "cell_type": "markdown",
   "id": "f61fded2",
   "metadata": {},
   "source": [
    "## 3. 🎯 Comparación entre media y mediana por categoría"
   ]
  },
  {
   "cell_type": "code",
   "execution_count": null,
   "id": "976bd6ec",
   "metadata": {},
   "outputs": [],
   "source": [
    "df.groupby('category')['units_sold'].agg(['mean', 'median']).sort_values(by='mean', ascending=False)"
   ]
  },
  {
   "cell_type": "markdown",
   "id": "fb00d40b",
   "metadata": {},
   "source": [
    "## 4. 📐 Medidas de dispersión por canal"
   ]
  },
  {
   "cell_type": "code",
   "execution_count": null,
   "id": "492a26f8",
   "metadata": {},
   "outputs": [],
   "source": [
    "df.groupby('channel')['revenue'].std().sort_values(ascending=False)"
   ]
  },
  {
   "cell_type": "markdown",
   "id": "1d297c5e",
   "metadata": {},
   "source": [
    "## 5. 🔍 Visualización de distribuciones y asimetría (skewness)"
   ]
  },
  {
   "cell_type": "code",
   "execution_count": null,
   "id": "d22850d0",
   "metadata": {},
   "outputs": [],
   "source": [
    "sns.histplot(df['revenue'], bins=50, kde=True)\n",
    "plt.title('Distribución de Revenue');"
   ]
  },
  {
   "cell_type": "code",
   "execution_count": null,
   "id": "1f4dd5a2",
   "metadata": {},
   "outputs": [],
   "source": [
    "print('Skewness:', df['revenue'].skew())"
   ]
  },
  {
   "cell_type": "markdown",
   "id": "3f22882f",
   "metadata": {},
   "source": [
    "## 6. 🗺️ Boxplot de ingresos por región"
   ]
  },
  {
   "cell_type": "code",
   "execution_count": null,
   "id": "4ec20b7f",
   "metadata": {},
   "outputs": [],
   "source": [
    "plt.figure(figsize=(10,5))\n",
    "sns.boxplot(data=df, x='region', y='revenue')\n",
    "plt.title('Distribución de Revenue por Región')"
   ]
  },
  {
   "cell_type": "markdown",
   "id": "5bcd139a",
   "metadata": {},
   "source": [
    "## 7. 🚨 Detección de outliers usando IQR"
   ]
  },
  {
   "cell_type": "code",
   "execution_count": null,
   "id": "e57c42b5",
   "metadata": {},
   "outputs": [],
   "source": [
    "Q1 = df['revenue'].quantile(0.25)\n",
    "Q3 = df['revenue'].quantile(0.75)\n",
    "IQR = Q3 - Q1\n",
    "lower_bound = Q1 - 1.5 * IQR\n",
    "upper_bound = Q3 + 1.5 * IQR\n",
    "outliers = df[(df['revenue'] < lower_bound) | (df['revenue'] > upper_bound)]\n",
    "print(f'Total outliers encontrados: {len(outliers)}')\n",
    "outliers.head()"
   ]
  },
  {
   "cell_type": "markdown",
   "id": "fc009dcd",
   "metadata": {},
   "source": [
    "## 🧠 Reflexión final\n",
    "- ¿La media o la mediana es más representativa en estos datos?\n",
    "- ¿Qué regiones presentan mayor varianza?\n",
    "- ¿Qué podrías hacer con los outliers detectados?\n",
    "- ¿Qué aprendiste sobre cómo analizar datos reales?"
   ]
  }
 ],
 "metadata": {},
 "nbformat": 4,
 "nbformat_minor": 5
}
